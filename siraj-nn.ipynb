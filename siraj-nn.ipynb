{
 "cells": [
  {
   "cell_type": "code",
   "execution_count": 1,
   "metadata": {
    "collapsed": false
   },
   "outputs": [],
   "source": [
    "from numpy import dot, random, exp, array "
   ]
  },
  {
   "cell_type": "code",
   "execution_count": 2,
   "metadata": {
    "collapsed": true
   },
   "outputs": [],
   "source": [
    "class NeuralNetwork():\n",
    "    \n",
    "    def __init__(self):\n",
    "            #seed random generator so that it generates same values\n",
    "            random.seed(1)\n",
    "            self.synaptic_weights = 2 * random.random((3,1)) - 1\n",
    "            \n",
    "    def train(self, training_inputs, training_output, itterations):\n",
    "        for i in xrange(itterations):\n",
    "            output = self.predict(training_inputs)\n",
    "            error = training_output - output\n",
    "            adjustment = dot(training_inputs.T , error * self.sigmoid_derivative(output))\n",
    "            self.synaptic_weights += adjustment\n",
    "        \n",
    "            \n",
    "    def predict(self, input):\n",
    "        return self.sigmoid(dot(input, self.synaptic_weights))\n",
    "        \n",
    "    def sigmoid(self, value):\n",
    "        return 1 / (1 + exp(-value))\n",
    "    \n",
    "    def sigmoid_derivative(self, x):\n",
    "        return x * (1-x)"
   ]
  },
  {
   "cell_type": "code",
   "execution_count": 3,
   "metadata": {
    "collapsed": false
   },
   "outputs": [
    {
     "name": "stdout",
     "output_type": "stream",
     "text": [
      "[[-0.16595599]\n",
      " [ 0.44064899]\n",
      " [-0.99977125]]\n",
      "[[ -4.21580472]\n",
      " [ 12.79437088]\n",
      " [ -4.21580472]]\n"
     ]
    }
   ],
   "source": [
    "#initialze neural network\n",
    "neural_network = NeuralNetwork()\n",
    "print(neural_network.synaptic_weights)\n",
    "\n",
    "# train neural network\n",
    "training_inputs = array([[1,0,0],[0,1,0],[0,0,1],[1,1,1]])\n",
    "training_output = array([[0,1,0,1]]).T\n",
    "neural_network.train(training_inputs,training_output,10000)\n",
    "\n",
    "print(neural_network.synaptic_weights)"
   ]
  },
  {
   "cell_type": "code",
   "execution_count": 4,
   "metadata": {
    "collapsed": false
   },
   "outputs": [
    {
     "data": {
      "text/plain": [
       "0.0"
      ]
     },
     "execution_count": 4,
     "metadata": {},
     "output_type": "execute_result"
    }
   ],
   "source": [
    "#predicting\n",
    "round(neural_network.predict(array([1,0,0])))"
   ]
  },
  {
   "cell_type": "code",
   "execution_count": null,
   "metadata": {
    "collapsed": true
   },
   "outputs": [],
   "source": []
  }
 ],
 "metadata": {
  "kernelspec": {
   "display_name": "Python 2",
   "language": "python",
   "name": "python2"
  },
  "language_info": {
   "codemirror_mode": {
    "name": "ipython",
    "version": 2
   },
   "file_extension": ".py",
   "mimetype": "text/x-python",
   "name": "python",
   "nbconvert_exporter": "python",
   "pygments_lexer": "ipython2",
   "version": "2.7.13"
  }
 },
 "nbformat": 4,
 "nbformat_minor": 2
}
